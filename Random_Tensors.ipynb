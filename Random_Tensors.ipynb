{
  "cells": [
    {
      "cell_type": "markdown",
      "metadata": {
        "id": "view-in-github",
        "colab_type": "text"
      },
      "source": [
        "<a href=\"https://colab.research.google.com/github/manavbahuguna/manavbahuguna/blob/main/Random_Tensors.ipynb\" target=\"_parent\"><img src=\"https://colab.research.google.com/assets/colab-badge.svg\" alt=\"Open In Colab\"/></a>"
      ]
    },
    {
      "cell_type": "code",
      "execution_count": null,
      "metadata": {
        "id": "O3whNd8WTSKv"
      },
      "outputs": [],
      "source": [
        "import torch"
      ]
    },
    {
      "cell_type": "markdown",
      "metadata": {
        "id": "hHT2-jULUH1g"
      },
      "source": [
        "To create a tensor of all zeros\n"
      ]
    },
    {
      "cell_type": "code",
      "execution_count": null,
      "metadata": {
        "colab": {
          "base_uri": "https://localhost:8080/"
        },
        "id": "jICiKgM0UL0o",
        "outputId": "9675e72f-9f07-418e-ab5d-9381e2d6a9db"
      },
      "outputs": [
        {
          "data": {
            "text/plain": [
              "tensor([[0., 0., 0., 0.],\n",
              "        [0., 0., 0., 0.],\n",
              "        [0., 0., 0., 0.]])"
            ]
          },
          "execution_count": 3,
          "metadata": {},
          "output_type": "execute_result"
        }
      ],
      "source": [
        "zeros = torch.zeros(size=(3,4))\n",
        "zeros"
      ]
    },
    {
      "cell_type": "markdown",
      "metadata": {
        "id": "Y32gSaQMUhYp"
      },
      "source": [
        "Create tensor of ones"
      ]
    },
    {
      "cell_type": "code",
      "execution_count": null,
      "metadata": {
        "colab": {
          "base_uri": "https://localhost:8080/"
        },
        "id": "ygW1pwV0UXA3",
        "outputId": "cff1a529-3a7d-47c1-ca6a-5b47bd2748be"
      },
      "outputs": [
        {
          "data": {
            "text/plain": [
              "tensor([[1., 1., 1., 1.],\n",
              "        [1., 1., 1., 1.],\n",
              "        [1., 1., 1., 1.]])"
            ]
          },
          "execution_count": 4,
          "metadata": {},
          "output_type": "execute_result"
        }
      ],
      "source": [
        "luls = torch.ones(size=(3,4))\n",
        "luls"
      ]
    },
    {
      "cell_type": "code",
      "execution_count": null,
      "metadata": {
        "colab": {
          "base_uri": "https://localhost:8080/"
        },
        "id": "q84rHdjVVJbK",
        "outputId": "9ec495e6-cd44-4ba5-a9aa-5521bfb130b1"
      },
      "outputs": [
        {
          "data": {
            "text/plain": [
              "torch.float32"
            ]
          },
          "execution_count": 5,
          "metadata": {},
          "output_type": "execute_result"
        }
      ],
      "source": [
        "luls.dtype"
      ]
    },
    {
      "cell_type": "markdown",
      "metadata": {
        "id": "BvCZoZSBWKNv"
      },
      "source": [
        "Create a range of tensors and tensors like"
      ]
    },
    {
      "cell_type": "code",
      "execution_count": null,
      "metadata": {
        "colab": {
          "base_uri": "https://localhost:8080/"
        },
        "id": "-p5TZnESWJzP",
        "outputId": "ec960840-e3a6-49ae-d9fd-cdcc803b558e"
      },
      "outputs": [
        {
          "data": {
            "text/plain": [
              "tensor([ 1,  2,  3,  4,  5,  6,  7,  8,  9, 10])"
            ]
          },
          "execution_count": 6,
          "metadata": {},
          "output_type": "execute_result"
        }
      ],
      "source": [
        "# Use torch range or arange\\\n",
        "one_to_ten = torch.arange(start = 1, end = 11, step=  1)\n",
        "one_to_ten"
      ]
    },
    {
      "cell_type": "code",
      "execution_count": null,
      "metadata": {
        "colab": {
          "base_uri": "https://localhost:8080/"
        },
        "id": "-L2QEPJbVK0D",
        "outputId": "1be28ede-6c52-458c-a704-fd60e1bc1505"
      },
      "outputs": [
        {
          "data": {
            "text/plain": [
              "tensor([ 0, 20, 40, 60, 80])"
            ]
          },
          "execution_count": 7,
          "metadata": {},
          "output_type": "execute_result"
        }
      ],
      "source": [
        "on_to_twn = torch.arange( start = 00, end = 100, step= 20)\n",
        "on_to_twn"
      ]
    },
    {
      "cell_type": "markdown",
      "metadata": {
        "id": "i-SHY5fpYcVR"
      },
      "source": [
        "Create tensor like\n"
      ]
    },
    {
      "cell_type": "code",
      "execution_count": null,
      "metadata": {
        "colab": {
          "base_uri": "https://localhost:8080/"
        },
        "id": "Izxr7XvvXTH_",
        "outputId": "fa321dc6-3eb8-49cc-a9cb-5ba72958ce13"
      },
      "outputs": [
        {
          "data": {
            "text/plain": [
              "tensor([0, 0, 0, 0, 0, 0, 0, 0, 0, 0])"
            ]
          },
          "execution_count": 8,
          "metadata": {},
          "output_type": "execute_result"
        }
      ],
      "source": [
        "ten_zeros = torch.zeros_like(input = one_to_ten)\n",
        "# This makes all tensor zero but takes the size and shape of input tensor\n",
        "ten_zeros"
      ]
    },
    {
      "cell_type": "markdown",
      "metadata": {
        "id": "F20oCCXDahSW"
      },
      "source": [
        "TENSOR DATATYPE"
      ]
    },
    {
      "cell_type": "code",
      "execution_count": null,
      "metadata": {
        "colab": {
          "base_uri": "https://localhost:8080/"
        },
        "id": "Z64Syh30ZvNo",
        "outputId": "1bce79a2-6215-40fe-b3e2-253eb18c2abd"
      },
      "outputs": [
        {
          "data": {
            "text/plain": [
              "tensor([3., 6., 9.])"
            ]
          },
          "execution_count": 12,
          "metadata": {},
          "output_type": "execute_result"
        }
      ],
      "source": [
        "#FLOAT 32 TENSOR\n",
        "float_32_tensor = torch.tensor([3.0, 6.0, 9.0],\n",
        "                                dtype = None, # what datatype your tensor is off\n",
        "                               device= None,# what device your tensor is on like cpu,cuda etc\n",
        "                               requires_grad= False)# whether or not to track gradients with this tensor operation\n",
        "float_32_tensor\n",
        "# float 32 is used for higher precision and genral computataion\n",
        "# float 16 used in dl to reduce memory footprintand sped up computation"
      ]
    },
    {
      "cell_type": "code",
      "execution_count": null,
      "metadata": {
        "colab": {
          "base_uri": "https://localhost:8080/"
        },
        "id": "CruVL6eva5Gh",
        "outputId": "39c74e37-7d03-4b95-91dc-52a7499143d1"
      },
      "outputs": [
        {
          "data": {
            "text/plain": [
              "torch.float16"
            ]
          },
          "execution_count": 11,
          "metadata": {},
          "output_type": "execute_result"
        }
      ],
      "source": [
        "float_32_tensor.dtype"
      ]
    },
    {
      "cell_type": "markdown",
      "metadata": {
        "id": "A17sU9ubdjIf"
      },
      "source": [
        "Problems usually run into in tensor / dl\n",
        "1] Tensor not being right daqtatype\n",
        "2] Tensor not bein g right shape\n",
        "3] Tensor not being on right devixe"
      ]
    },
    {
      "cell_type": "code",
      "execution_count": null,
      "metadata": {
        "colab": {
          "base_uri": "https://localhost:8080/"
        },
        "id": "2E7RLgJqd8oE",
        "outputId": "3da8850b-1d20-4f9d-db59-8a17e42c8faa"
      },
      "outputs": [
        {
          "data": {
            "text/plain": [
              "torch.float16"
            ]
          },
          "execution_count": 14,
          "metadata": {},
          "output_type": "execute_result"
        }
      ],
      "source": [
        "float_16_tensor = float_32_tensor.type(torch.float16)\n",
        "float_16_tensor\n",
        "float_16_tensor.dtype"
      ]
    },
    {
      "cell_type": "code",
      "execution_count": null,
      "metadata": {
        "colab": {
          "base_uri": "https://localhost:8080/"
        },
        "id": "_Yj8AraIfk9y",
        "outputId": "1f494c3b-6ea9-43f7-cd3e-4fe20efa19d3"
      },
      "outputs": [
        {
          "data": {
            "text/plain": [
              "tensor([ 9., 36., 81.])"
            ]
          },
          "execution_count": 16,
          "metadata": {},
          "output_type": "execute_result"
        }
      ],
      "source": [
        "float_16_tensor * float_32_tensor"
      ]
    },
    {
      "cell_type": "code",
      "execution_count": null,
      "metadata": {
        "colab": {
          "base_uri": "https://localhost:8080/"
        },
        "id": "hvDY5a5DiM6Y",
        "outputId": "4ec00af8-3d76-44d5-de52-f391edad66b3"
      },
      "outputs": [
        {
          "data": {
            "text/plain": [
              "tensor([3, 6, 9], dtype=torch.int32)"
            ]
          },
          "execution_count": 18,
          "metadata": {},
          "output_type": "execute_result"
        }
      ],
      "source": [
        "int_torch_32 =torch.tensor([3,6,9],dtype=torch.int32)\n",
        "int_torch_32"
      ]
    },
    {
      "cell_type": "code",
      "execution_count": null,
      "metadata": {
        "colab": {
          "base_uri": "https://localhost:8080/"
        },
        "id": "BBCc2hM4t4nk",
        "outputId": "65d88f16-f330-450a-e6cd-69de70c7daa3"
      },
      "outputs": [
        {
          "data": {
            "text/plain": [
              "tensor([ 9., 36., 81.], dtype=torch.float16)"
            ]
          },
          "execution_count": 19,
          "metadata": {},
          "output_type": "execute_result"
        }
      ],
      "source": [
        "float_16_tensor * int_torch_32"
      ]
    },
    {
      "cell_type": "markdown",
      "metadata": {
        "id": "zZ_4Pegnuww6"
      },
      "source": [
        "Problems usually run into in tensor / dl 1] Tensor not being right daqtatype 2] Tensor not bein g right shape 3] Tensor not being on right device The solution is that for shape we can use tensor.shape() , for device we can select the device we want and for datatype we can select the right datatype\n",
        "\n"
      ]
    },
    {
      "cell_type": "code",
      "execution_count": null,
      "metadata": {
        "colab": {
          "base_uri": "https://localhost:8080/"
        },
        "id": "WHEGAzpnvMZ9",
        "outputId": "b573816a-390c-48d0-ffa6-101a3711278e"
      },
      "outputs": [
        {
          "data": {
            "text/plain": [
              "tensor([[0.3346, 0.9496, 0.6387, 0.1678],\n",
              "        [0.5617, 0.0217, 0.0607, 0.4593],\n",
              "        [0.9879, 0.5991, 0.9756, 0.3015]])"
            ]
          },
          "execution_count": 21,
          "metadata": {},
          "output_type": "execute_result"
        }
      ],
      "source": [
        "some_tensor = torch.rand(3,4)\n",
        "some_tensor"
      ]
    },
    {
      "cell_type": "code",
      "execution_count": null,
      "metadata": {
        "colab": {
          "base_uri": "https://localhost:8080/"
        },
        "id": "PI1UzUuMvsPV",
        "outputId": "a83f7aaf-5ba6-4548-aa38-15408038e861"
      },
      "outputs": [
        {
          "name": "stdout",
          "output_type": "stream",
          "text": [
            "tensor([[0.3346, 0.9496, 0.6387, 0.1678],\n",
            "        [0.5617, 0.0217, 0.0607, 0.4593],\n",
            "        [0.9879, 0.5991, 0.9756, 0.3015]])\n",
            "Datatype of tensor: torch.float32\n",
            "Shape of tensor: torch.Size([3, 4])\n",
            "Device tensor is on: cpu\n"
          ]
        }
      ],
      "source": [
        "print(some_tensor)\n",
        "print(f\"Datatype of tensor: {some_tensor.dtype}\")\n",
        "print(f\"Shape of tensor: {some_tensor.shape}\")\n",
        "print(f\"Device tensor is on: {some_tensor.device}\")"
      ]
    },
    {
      "cell_type": "markdown",
      "metadata": {
        "id": "v9FdYOHKwgNw"
      },
      "source": [
        "\n",
        "Tensors manipulation\n",
        "\n",
        "\n",
        "\n",
        "\n"
      ]
    },
    {
      "cell_type": "code",
      "execution_count": null,
      "metadata": {
        "colab": {
          "background_save": true
        },
        "id": "5EVTe-e_vxC0",
        "outputId": "d48914a9-f3a6-4565-f061-51f8aab5f7e8"
      },
      "outputs": [
        {
          "ename": "SyntaxError",
          "evalue": "invalid syntax. Perhaps you forgot a comma? (<ipython-input-23-1a41c0fd3d99>, line 4)",
          "output_type": "error",
          "traceback": [
            "\u001b[0;36m  File \u001b[0;32m\"<ipython-input-23-1a41c0fd3d99>\"\u001b[0;36m, line \u001b[0;32m4\u001b[0m\n\u001b[0;31m    print(tensor, '* 'tensor)\u001b[0m\n\u001b[0m                  ^\u001b[0m\n\u001b[0;31mSyntaxError\u001b[0m\u001b[0;31m:\u001b[0m invalid syntax. Perhaps you forgot a comma?\n"
          ]
        }
      ],
      "source": [
        "# Matrix Multiplication (very imp) used in neural networks and DL\n",
        "# element multplication also used in neural networks and DL (basic mul)\n",
        "# First Element Multiplication\n",
        "print(tensor, * tensor)"
      ]
    }
  ],
  "metadata": {
    "colab": {
      "provenance": [],
      "authorship_tag": "ABX9TyMv4ir07szZmszW1asSaxui",
      "include_colab_link": true
    },
    "kernelspec": {
      "display_name": "Python 3",
      "name": "python3"
    },
    "language_info": {
      "name": "python"
    }
  },
  "nbformat": 4,
  "nbformat_minor": 0
}